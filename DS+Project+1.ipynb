{
 "cells": [
  {
   "cell_type": "code",
   "execution_count": null,
   "metadata": {
    "collapsed": true
   },
   "outputs": [],
   "source": [
    "# Data Source: https://www.kaggle.com/worldbank/world-development-indicators"
   ]
  },
  {
   "cell_type": "markdown",
   "metadata": {},
   "source": [
    "<br><p style=\"font-family: Arial; font-size:3.75em;color:purple; font-style:bold\">\n",
    "The more money is spent on health, the <br><br><br>more is the life expectancy at birth: <br><br><br>True or False?</p><br>\n",
    "## *Mehak Beri*<br>"
   ]
  },
  {
   "cell_type": "markdown",
   "metadata": {},
   "source": [
    "<br><br><center><h1 style=\"font-size:2em;color:#2467C0\">World Development Indicators</h1></center>\n",
    "<br>\n",
    "<table>\n",
    "<col width=\"550\">\n",
    "<col width=\"450\">\n",
    "<tr>\n",
    "<td><img src=\"https://upload.wikimedia.org/wikipedia/commons/4/46/North_South_divide.svg\" align=\"middle\" style=\"width:550px;height:360px;\"/></td>\n",
    "<td>\n",
    "An open dataset from <a href=\"https://www.kaggle.com\">Kaggle</a> has been used. It is  <a href=\"https://www.kaggle.com/worldbank/world-development-indicators\">The World Development Indicators</a> dataset obtained from the World Bank containing over a thousand annual indicators of economic development from hundreds of countries around the world.\n",
    "<br>\n",
    "<br>\n",
    "This is a slightly modified version of the original dataset from <a href=\"http://data.worldbank.org/data-catalog/world-development-indicators\">The World Bank</a>\n",
    "<br>\n",
    "<br>\n",
    "List of the <a href=\"https://www.kaggle.com/benhamner/d/worldbank/world-development-indicators/indicators-in-data\">available indicators</a> and a <a href=\"https://www.kaggle.com/benhamner/d/worldbank/world-development-indicators/countries-in-the-wdi-data\">list of the available countries</a>.\n",
    "</td>\n",
    "</tr>\n",
    "</table>"
   ]
  },
  {
   "cell_type": "markdown",
   "metadata": {},
   "source": [
    "# Step 1: Initial exploration of the Dataset"
   ]
  },
  {
   "cell_type": "code",
   "execution_count": 1,
   "metadata": {
    "collapsed": true
   },
   "outputs": [],
   "source": [
    "import pandas as pd\n",
    "import numpy as np\n",
    "import random\n",
    "import matplotlib.pyplot as plt"
   ]
  },
  {
   "cell_type": "code",
   "execution_count": 2,
   "metadata": {},
   "outputs": [
    {
     "data": {
      "text/plain": [
       "(5656458, 6)"
      ]
     },
     "execution_count": 2,
     "metadata": {},
     "output_type": "execute_result"
    }
   ],
   "source": [
    "data = pd.read_csv('./world-development-indicators/Indicators.csv')\n",
    "data.shape"
   ]
  },
  {
   "cell_type": "markdown",
   "metadata": {},
   "source": [
    "This is a really large dataset.  Let us have a glimpse of the data stored in this huge dataset."
   ]
  },
  {
   "cell_type": "code",
   "execution_count": 3,
   "metadata": {},
   "outputs": [
    {
     "data": {
      "text/html": [
       "<div>\n",
       "<style>\n",
       "    .dataframe thead tr:only-child th {\n",
       "        text-align: right;\n",
       "    }\n",
       "\n",
       "    .dataframe thead th {\n",
       "        text-align: left;\n",
       "    }\n",
       "\n",
       "    .dataframe tbody tr th {\n",
       "        vertical-align: top;\n",
       "    }\n",
       "</style>\n",
       "<table border=\"1\" class=\"dataframe\">\n",
       "  <thead>\n",
       "    <tr style=\"text-align: right;\">\n",
       "      <th></th>\n",
       "      <th>CountryName</th>\n",
       "      <th>CountryCode</th>\n",
       "      <th>IndicatorName</th>\n",
       "      <th>IndicatorCode</th>\n",
       "      <th>Year</th>\n",
       "      <th>Value</th>\n",
       "    </tr>\n",
       "  </thead>\n",
       "  <tbody>\n",
       "    <tr>\n",
       "      <th>0</th>\n",
       "      <td>Arab World</td>\n",
       "      <td>ARB</td>\n",
       "      <td>Adolescent fertility rate (births per 1,000 wo...</td>\n",
       "      <td>SP.ADO.TFRT</td>\n",
       "      <td>1960</td>\n",
       "      <td>1.335609e+02</td>\n",
       "    </tr>\n",
       "    <tr>\n",
       "      <th>1</th>\n",
       "      <td>Arab World</td>\n",
       "      <td>ARB</td>\n",
       "      <td>Age dependency ratio (% of working-age populat...</td>\n",
       "      <td>SP.POP.DPND</td>\n",
       "      <td>1960</td>\n",
       "      <td>8.779760e+01</td>\n",
       "    </tr>\n",
       "    <tr>\n",
       "      <th>2</th>\n",
       "      <td>Arab World</td>\n",
       "      <td>ARB</td>\n",
       "      <td>Age dependency ratio, old (% of working-age po...</td>\n",
       "      <td>SP.POP.DPND.OL</td>\n",
       "      <td>1960</td>\n",
       "      <td>6.634579e+00</td>\n",
       "    </tr>\n",
       "    <tr>\n",
       "      <th>3</th>\n",
       "      <td>Arab World</td>\n",
       "      <td>ARB</td>\n",
       "      <td>Age dependency ratio, young (% of working-age ...</td>\n",
       "      <td>SP.POP.DPND.YG</td>\n",
       "      <td>1960</td>\n",
       "      <td>8.102333e+01</td>\n",
       "    </tr>\n",
       "    <tr>\n",
       "      <th>4</th>\n",
       "      <td>Arab World</td>\n",
       "      <td>ARB</td>\n",
       "      <td>Arms exports (SIPRI trend indicator values)</td>\n",
       "      <td>MS.MIL.XPRT.KD</td>\n",
       "      <td>1960</td>\n",
       "      <td>3.000000e+06</td>\n",
       "    </tr>\n",
       "    <tr>\n",
       "      <th>5</th>\n",
       "      <td>Arab World</td>\n",
       "      <td>ARB</td>\n",
       "      <td>Arms imports (SIPRI trend indicator values)</td>\n",
       "      <td>MS.MIL.MPRT.KD</td>\n",
       "      <td>1960</td>\n",
       "      <td>5.380000e+08</td>\n",
       "    </tr>\n",
       "    <tr>\n",
       "      <th>6</th>\n",
       "      <td>Arab World</td>\n",
       "      <td>ARB</td>\n",
       "      <td>Birth rate, crude (per 1,000 people)</td>\n",
       "      <td>SP.DYN.CBRT.IN</td>\n",
       "      <td>1960</td>\n",
       "      <td>4.769789e+01</td>\n",
       "    </tr>\n",
       "    <tr>\n",
       "      <th>7</th>\n",
       "      <td>Arab World</td>\n",
       "      <td>ARB</td>\n",
       "      <td>CO2 emissions (kt)</td>\n",
       "      <td>EN.ATM.CO2E.KT</td>\n",
       "      <td>1960</td>\n",
       "      <td>5.956399e+04</td>\n",
       "    </tr>\n",
       "    <tr>\n",
       "      <th>8</th>\n",
       "      <td>Arab World</td>\n",
       "      <td>ARB</td>\n",
       "      <td>CO2 emissions (metric tons per capita)</td>\n",
       "      <td>EN.ATM.CO2E.PC</td>\n",
       "      <td>1960</td>\n",
       "      <td>6.439635e-01</td>\n",
       "    </tr>\n",
       "    <tr>\n",
       "      <th>9</th>\n",
       "      <td>Arab World</td>\n",
       "      <td>ARB</td>\n",
       "      <td>CO2 emissions from gaseous fuel consumption (%...</td>\n",
       "      <td>EN.ATM.CO2E.GF.ZS</td>\n",
       "      <td>1960</td>\n",
       "      <td>5.041292e+00</td>\n",
       "    </tr>\n",
       "  </tbody>\n",
       "</table>\n",
       "</div>"
      ],
      "text/plain": [
       "  CountryName CountryCode                                      IndicatorName  \\\n",
       "0  Arab World         ARB  Adolescent fertility rate (births per 1,000 wo...   \n",
       "1  Arab World         ARB  Age dependency ratio (% of working-age populat...   \n",
       "2  Arab World         ARB  Age dependency ratio, old (% of working-age po...   \n",
       "3  Arab World         ARB  Age dependency ratio, young (% of working-age ...   \n",
       "4  Arab World         ARB        Arms exports (SIPRI trend indicator values)   \n",
       "5  Arab World         ARB        Arms imports (SIPRI trend indicator values)   \n",
       "6  Arab World         ARB               Birth rate, crude (per 1,000 people)   \n",
       "7  Arab World         ARB                                 CO2 emissions (kt)   \n",
       "8  Arab World         ARB             CO2 emissions (metric tons per capita)   \n",
       "9  Arab World         ARB  CO2 emissions from gaseous fuel consumption (%...   \n",
       "\n",
       "       IndicatorCode  Year         Value  \n",
       "0        SP.ADO.TFRT  1960  1.335609e+02  \n",
       "1        SP.POP.DPND  1960  8.779760e+01  \n",
       "2     SP.POP.DPND.OL  1960  6.634579e+00  \n",
       "3     SP.POP.DPND.YG  1960  8.102333e+01  \n",
       "4     MS.MIL.XPRT.KD  1960  3.000000e+06  \n",
       "5     MS.MIL.MPRT.KD  1960  5.380000e+08  \n",
       "6     SP.DYN.CBRT.IN  1960  4.769789e+01  \n",
       "7     EN.ATM.CO2E.KT  1960  5.956399e+04  \n",
       "8     EN.ATM.CO2E.PC  1960  6.439635e-01  \n",
       "9  EN.ATM.CO2E.GF.ZS  1960  5.041292e+00  "
      ]
     },
     "execution_count": 3,
     "metadata": {},
     "output_type": "execute_result"
    }
   ],
   "source": [
    "data.head(10)"
   ]
  },
  {
   "cell_type": "markdown",
   "metadata": {},
   "source": [
    "It has different indicators for different countries with the year and value of the indicator. "
   ]
  },
  {
   "cell_type": "markdown",
   "metadata": {},
   "source": [
    "### Number of countries in the data set:"
   ]
  },
  {
   "cell_type": "code",
   "execution_count": 4,
   "metadata": {},
   "outputs": [
    {
     "data": {
      "text/plain": [
       "247"
      ]
     },
     "execution_count": 4,
     "metadata": {},
     "output_type": "execute_result"
    }
   ],
   "source": [
    "countries = data['CountryName'].unique().tolist()\n",
    "len(countries)"
   ]
  },
  {
   "cell_type": "markdown",
   "metadata": {},
   "source": [
    "### Number of country codes:"
   ]
  },
  {
   "cell_type": "code",
   "execution_count": 5,
   "metadata": {},
   "outputs": [
    {
     "data": {
      "text/plain": [
       "247"
      ]
     },
     "execution_count": 5,
     "metadata": {},
     "output_type": "execute_result"
    }
   ],
   "source": [
    "# How many unique country codes are there ? (should be the same #)\n",
    "countryCodes = data['CountryCode'].unique().tolist()\n",
    "len(countryCodes)"
   ]
  },
  {
   "cell_type": "markdown",
   "metadata": {},
   "source": [
    "### Number of indicators in the data set:"
   ]
  },
  {
   "cell_type": "code",
   "execution_count": 6,
   "metadata": {},
   "outputs": [
    {
     "data": {
      "text/plain": [
       "1344"
      ]
     },
     "execution_count": 6,
     "metadata": {},
     "output_type": "execute_result"
    }
   ],
   "source": [
    "# How many unique indicators are there ? (should be the same #)\n",
    "indicators = data['IndicatorName'].unique().tolist()\n",
    "len(indicators)"
   ]
  },
  {
   "cell_type": "markdown",
   "metadata": {},
   "source": [
    "### Information about years in the data set:"
   ]
  },
  {
   "cell_type": "code",
   "execution_count": 7,
   "metadata": {},
   "outputs": [
    {
     "name": "stdout",
     "output_type": "stream",
     "text": [
      "The data spans  56  years\n",
      "Range of years:\n",
      "1960  to  2015\n"
     ]
    }
   ],
   "source": [
    "# How many years of data do we have ?\n",
    "years = data['Year'].unique().tolist()\n",
    "print(\"The data spans \",len(years),\" years\")\n",
    "# What is the range of years?\n",
    "print(\"Range of years:\")\n",
    "print(min(years),' to ',max(years))"
   ]
  },
  {
   "cell_type": "markdown",
   "metadata": {},
   "source": [
    "<p style=\"font-family: Arial; font-size:2.5em;color:blue; font-style:bold\">\n",
    "Health Expenditure per capita </p><br>"
   ]
  },
  {
   "cell_type": "markdown",
   "metadata": {},
   "source": [
    "### Lets pick a country and an indicator to explore: Health Expenditure per capita and the USA"
   ]
  },
  {
   "cell_type": "code",
   "execution_count": 8,
   "metadata": {},
   "outputs": [
    {
     "data": {
      "text/plain": [
       "19"
      ]
     },
     "execution_count": 8,
     "metadata": {},
     "output_type": "execute_result"
    }
   ],
   "source": [
    "# select health expenditure per capita\n",
    "hist_indicator = 'Health expenditure per capita \\(current'\n",
    "hist_country = 'USA'\n",
    "\n",
    "mask1 = data['IndicatorName'].str.contains(hist_indicator) \n",
    "mask2 = data['CountryCode'].str.contains(hist_country)\n",
    "\n",
    "healthExp_USA = data[mask1 & mask2]\n",
    "# number of rows of data\n",
    "len(healthExp_USA)"
   ]
  },
  {
   "cell_type": "code",
   "execution_count": 9,
   "metadata": {},
   "outputs": [
    {
     "data": {
      "text/html": [
       "<div>\n",
       "<style>\n",
       "    .dataframe thead tr:only-child th {\n",
       "        text-align: right;\n",
       "    }\n",
       "\n",
       "    .dataframe thead th {\n",
       "        text-align: left;\n",
       "    }\n",
       "\n",
       "    .dataframe tbody tr th {\n",
       "        vertical-align: top;\n",
       "    }\n",
       "</style>\n",
       "<table border=\"1\" class=\"dataframe\">\n",
       "  <thead>\n",
       "    <tr style=\"text-align: right;\">\n",
       "      <th></th>\n",
       "      <th>CountryName</th>\n",
       "      <th>CountryCode</th>\n",
       "      <th>IndicatorName</th>\n",
       "      <th>IndicatorCode</th>\n",
       "      <th>Year</th>\n",
       "      <th>Value</th>\n",
       "    </tr>\n",
       "  </thead>\n",
       "  <tbody>\n",
       "    <tr>\n",
       "      <th>2613944</th>\n",
       "      <td>United States</td>\n",
       "      <td>USA</td>\n",
       "      <td>Health expenditure per capita (current US$)</td>\n",
       "      <td>SH.XPD.PCAP</td>\n",
       "      <td>1995</td>\n",
       "      <td>3810.254767</td>\n",
       "    </tr>\n",
       "    <tr>\n",
       "      <th>2748910</th>\n",
       "      <td>United States</td>\n",
       "      <td>USA</td>\n",
       "      <td>Health expenditure per capita (current US$)</td>\n",
       "      <td>SH.XPD.PCAP</td>\n",
       "      <td>1996</td>\n",
       "      <td>3972.163013</td>\n",
       "    </tr>\n",
       "    <tr>\n",
       "      <th>2885188</th>\n",
       "      <td>United States</td>\n",
       "      <td>USA</td>\n",
       "      <td>Health expenditure per capita (current US$)</td>\n",
       "      <td>SH.XPD.PCAP</td>\n",
       "      <td>1997</td>\n",
       "      <td>4142.709560</td>\n",
       "    </tr>\n",
       "    <tr>\n",
       "      <th>3022543</th>\n",
       "      <td>United States</td>\n",
       "      <td>USA</td>\n",
       "      <td>Health expenditure per capita (current US$)</td>\n",
       "      <td>SH.XPD.PCAP</td>\n",
       "      <td>1998</td>\n",
       "      <td>4328.486657</td>\n",
       "    </tr>\n",
       "    <tr>\n",
       "      <th>3164467</th>\n",
       "      <td>United States</td>\n",
       "      <td>USA</td>\n",
       "      <td>Health expenditure per capita (current US$)</td>\n",
       "      <td>SH.XPD.PCAP</td>\n",
       "      <td>1999</td>\n",
       "      <td>4551.944180</td>\n",
       "    </tr>\n",
       "  </tbody>\n",
       "</table>\n",
       "</div>"
      ],
      "text/plain": [
       "           CountryName CountryCode  \\\n",
       "2613944  United States         USA   \n",
       "2748910  United States         USA   \n",
       "2885188  United States         USA   \n",
       "3022543  United States         USA   \n",
       "3164467  United States         USA   \n",
       "\n",
       "                                       IndicatorName IndicatorCode  Year  \\\n",
       "2613944  Health expenditure per capita (current US$)   SH.XPD.PCAP  1995   \n",
       "2748910  Health expenditure per capita (current US$)   SH.XPD.PCAP  1996   \n",
       "2885188  Health expenditure per capita (current US$)   SH.XPD.PCAP  1997   \n",
       "3022543  Health expenditure per capita (current US$)   SH.XPD.PCAP  1998   \n",
       "3164467  Health expenditure per capita (current US$)   SH.XPD.PCAP  1999   \n",
       "\n",
       "               Value  \n",
       "2613944  3810.254767  \n",
       "2748910  3972.163013  \n",
       "2885188  4142.709560  \n",
       "3022543  4328.486657  \n",
       "3164467  4551.944180  "
      ]
     },
     "execution_count": 9,
     "metadata": {},
     "output_type": "execute_result"
    }
   ],
   "source": [
    "healthExp_USA.head()"
   ]
  },
  {
   "cell_type": "markdown",
   "metadata": {},
   "source": [
    "### Let's see how health expenditures have changed over time in USA using MatplotLib"
   ]
  },
  {
   "cell_type": "code",
   "execution_count": 10,
   "metadata": {},
   "outputs": [
    {
     "data": {
      "image/png": "[encoded data removed]",
      "text/plain": [
       "<matplotlib.figure.Figure at 0x2a5846fa5c0>"
      ]
     },
     "metadata": {},
     "output_type": "display_data"
    }
   ],
   "source": [
    "# get the years\n",
    "years = healthExp_USA['Year'].values\n",
    "# get the values \n",
    "exp = healthExp_USA['Value'].values\n",
    "\n",
    "# create\n",
    "plt.bar(years,exp)\n",
    "plt.xticks(np.arange(min(years), max(years)+1, 2))\n",
    "plt.show()"
   ]
  },
  {
   "cell_type": "markdown",
   "metadata": {},
   "source": [
    "It can be seen that there has been a steady increase in the health expenditure in USA"
   ]
  },
  {
   "cell_type": "code",
   "execution_count": 11,
   "metadata": {},
   "outputs": [
    {
     "data": {
      "image/png": "[encoded data removed]",
      "text/plain": [
       "<matplotlib.figure.Figure at 0x2a5848dcdd8>"
      ]
     },
     "metadata": {},
     "output_type": "display_data"
    }
   ],
   "source": [
    "# switch to a line plot\n",
    "plt.plot(healthExp_USA['Year'].values, healthExp_USA['Value'].values)\n",
    "\n",
    "# Label the axes\n",
    "plt.xlabel('Year')\n",
    "plt.ylabel(healthExp_USA['IndicatorName'].iloc[0])\n",
    "\n",
    "#label the figure\n",
    "plt.title('Health Expenditure in USA')\n",
    "\n",
    "# to make more honest, start they y axis at 0\n",
    "plt.axis([1995, 2013,0,10000])\n",
    "\n",
    "plt.show()"
   ]
  },
  {
   "cell_type": "markdown",
   "metadata": {},
   "source": [
    "### But how do the USA's numbers relate to those of other countries?"
   ]
  },
  {
   "cell_type": "code",
   "execution_count": 12,
   "metadata": {},
   "outputs": [
    {
     "data": {
      "text/html": [
       "<div>\n",
       "<style>\n",
       "    .dataframe thead tr:only-child th {\n",
       "        text-align: right;\n",
       "    }\n",
       "\n",
       "    .dataframe thead th {\n",
       "        text-align: left;\n",
       "    }\n",
       "\n",
       "    .dataframe tbody tr th {\n",
       "        vertical-align: top;\n",
       "    }\n",
       "</style>\n",
       "<table border=\"1\" class=\"dataframe\">\n",
       "  <thead>\n",
       "    <tr style=\"text-align: right;\">\n",
       "      <th></th>\n",
       "      <th>CountryName</th>\n",
       "      <th>CountryCode</th>\n",
       "      <th>IndicatorName</th>\n",
       "      <th>IndicatorCode</th>\n",
       "      <th>Year</th>\n",
       "      <th>Value</th>\n",
       "    </tr>\n",
       "  </thead>\n",
       "  <tbody>\n",
       "    <tr>\n",
       "      <th>5026437</th>\n",
       "      <td>Arab World</td>\n",
       "      <td>ARB</td>\n",
       "      <td>Health expenditure per capita (current US$)</td>\n",
       "      <td>SH.XPD.PCAP</td>\n",
       "      <td>2011</td>\n",
       "      <td>281.493742</td>\n",
       "    </tr>\n",
       "    <tr>\n",
       "      <th>5026931</th>\n",
       "      <td>Caribbean small states</td>\n",
       "      <td>CSS</td>\n",
       "      <td>Health expenditure per capita (current US$)</td>\n",
       "      <td>SH.XPD.PCAP</td>\n",
       "      <td>2011</td>\n",
       "      <td>524.194728</td>\n",
       "    </tr>\n",
       "    <tr>\n",
       "      <th>5027468</th>\n",
       "      <td>Central Europe and the Baltics</td>\n",
       "      <td>CEB</td>\n",
       "      <td>Health expenditure per capita (current US$)</td>\n",
       "      <td>SH.XPD.PCAP</td>\n",
       "      <td>2011</td>\n",
       "      <td>950.863686</td>\n",
       "    </tr>\n",
       "    <tr>\n",
       "      <th>5028051</th>\n",
       "      <td>East Asia &amp; Pacific (all income levels)</td>\n",
       "      <td>EAS</td>\n",
       "      <td>Health expenditure per capita (current US$)</td>\n",
       "      <td>SH.XPD.PCAP</td>\n",
       "      <td>2011</td>\n",
       "      <td>593.205938</td>\n",
       "    </tr>\n",
       "    <tr>\n",
       "      <th>5028672</th>\n",
       "      <td>East Asia &amp; Pacific (developing only)</td>\n",
       "      <td>EAP</td>\n",
       "      <td>Health expenditure per capita (current US$)</td>\n",
       "      <td>SH.XPD.PCAP</td>\n",
       "      <td>2011</td>\n",
       "      <td>224.732081</td>\n",
       "    </tr>\n",
       "  </tbody>\n",
       "</table>\n",
       "</div>"
      ],
      "text/plain": [
       "                                     CountryName CountryCode  \\\n",
       "5026437                               Arab World         ARB   \n",
       "5026931                   Caribbean small states         CSS   \n",
       "5027468           Central Europe and the Baltics         CEB   \n",
       "5028051  East Asia & Pacific (all income levels)         EAS   \n",
       "5028672    East Asia & Pacific (developing only)         EAP   \n",
       "\n",
       "                                       IndicatorName IndicatorCode  Year  \\\n",
       "5026437  Health expenditure per capita (current US$)   SH.XPD.PCAP  2011   \n",
       "5026931  Health expenditure per capita (current US$)   SH.XPD.PCAP  2011   \n",
       "5027468  Health expenditure per capita (current US$)   SH.XPD.PCAP  2011   \n",
       "5028051  Health expenditure per capita (current US$)   SH.XPD.PCAP  2011   \n",
       "5028672  Health expenditure per capita (current US$)   SH.XPD.PCAP  2011   \n",
       "\n",
       "              Value  \n",
       "5026437  281.493742  \n",
       "5026931  524.194728  \n",
       "5027468  950.863686  \n",
       "5028051  593.205938  \n",
       "5028672  224.732081  "
      ]
     },
     "execution_count": 12,
     "metadata": {},
     "output_type": "execute_result"
    }
   ],
   "source": [
    "# select health expenditures for all countries in 2011\n",
    "hist_indicator = 'Health expenditure per capita \\(current'\n",
    "hist_year = 2011\n",
    "\n",
    "mask1 = data['IndicatorName'].str.contains(hist_indicator) \n",
    "mask2 = data['Year'].isin([hist_year])\n",
    "#mask3 = data['CountryCode'].str.contains(\"USA\")\n",
    "\n",
    "# apply our mask\n",
    "exp_2011 = data[mask1 & mask2]\n",
    "exp_2011.head()"
   ]
  },
  {
   "cell_type": "markdown",
   "metadata": {},
   "source": [
    "For how many countries do we have health expenditure per capita emissions data in 2011"
   ]
  },
  {
   "cell_type": "code",
   "execution_count": 13,
   "metadata": {},
   "outputs": [
    {
     "name": "stdout",
     "output_type": "stream",
     "text": [
      "221\n"
     ]
    }
   ],
   "source": [
    "print(len(exp_2011))"
   ]
  },
  {
   "cell_type": "markdown",
   "metadata": {},
   "source": [
    "### Histogram of health expenditure per capita by country"
   ]
  },
  {
   "cell_type": "code",
   "execution_count": 14,
   "metadata": {},
   "outputs": [
    {
     "data": {
      "image/png": "[encoded data removed]",
      "text/plain": [
       "<matplotlib.figure.Figure at 0x2a584bf5cf8>"
      ]
     },
     "metadata": {},
     "output_type": "display_data"
    }
   ],
   "source": [
    "\n",
    "# subplots returns a touple with the figure, axis attributes.\n",
    "fig, ax = plt.subplots()\n",
    "\n",
    "ax.annotate(\"USA\",\n",
    "            xy=(8553, 2), xycoords='data',\n",
    "            xytext=(7000, 30), textcoords='data',\n",
    "            arrowprops=dict(arrowstyle=\"->\",\n",
    "                            connectionstyle=\"arc3\"),\n",
    "            )\n",
    "\n",
    "plt.hist(exp_2011['Value'], 7, normed=False, facecolor='green')\n",
    "\n",
    "plt.xlabel(healthExp_USA['IndicatorName'].iloc[0])\n",
    "plt.ylabel('# of Countries')\n",
    "plt.title('Histogram of Health Expenditure Per Capita')\n",
    "\n",
    "#plt.axis([10, 22, 0, 14])\n",
    "plt.grid(True)\n",
    "\n",
    "plt.show()"
   ]
  },
  {
   "cell_type": "markdown",
   "metadata": {},
   "source": [
    "So the USA, at ~8553$ Health expenditure (per capita) is quite high among all countries.\n",
    "\n"
   ]
  },
  {
   "cell_type": "markdown",
   "metadata": {},
   "source": [
    "<p style=\"font-family: Arial; font-size:2.0em;color:blue; font-style:bold\">\n",
    "Life expectancy at birth, total (years) </p><br><br>"
   ]
  },
  {
   "cell_type": "markdown",
   "metadata": {},
   "source": [
    "### Lets pick a country and an indicator to explore: Life expectancy at birth in USA"
   ]
  },
  {
   "cell_type": "code",
   "execution_count": 15,
   "metadata": {},
   "outputs": [
    {
     "data": {
      "text/html": [
       "<div>\n",
       "<style>\n",
       "    .dataframe thead tr:only-child th {\n",
       "        text-align: right;\n",
       "    }\n",
       "\n",
       "    .dataframe thead th {\n",
       "        text-align: left;\n",
       "    }\n",
       "\n",
       "    .dataframe tbody tr th {\n",
       "        vertical-align: top;\n",
       "    }\n",
       "</style>\n",
       "<table border=\"1\" class=\"dataframe\">\n",
       "  <thead>\n",
       "    <tr style=\"text-align: right;\">\n",
       "      <th></th>\n",
       "      <th>CountryName</th>\n",
       "      <th>CountryCode</th>\n",
       "      <th>IndicatorName</th>\n",
       "      <th>IndicatorCode</th>\n",
       "      <th>Year</th>\n",
       "      <th>Value</th>\n",
       "    </tr>\n",
       "  </thead>\n",
       "  <tbody>\n",
       "    <tr>\n",
       "      <th>22323</th>\n",
       "      <td>United States</td>\n",
       "      <td>USA</td>\n",
       "      <td>Life expectancy at birth, total (years)</td>\n",
       "      <td>SP.DYN.LE00.IN</td>\n",
       "      <td>1960</td>\n",
       "      <td>69.770732</td>\n",
       "    </tr>\n",
       "    <tr>\n",
       "      <th>48803</th>\n",
       "      <td>United States</td>\n",
       "      <td>USA</td>\n",
       "      <td>Life expectancy at birth, total (years)</td>\n",
       "      <td>SP.DYN.LE00.IN</td>\n",
       "      <td>1961</td>\n",
       "      <td>70.270732</td>\n",
       "    </tr>\n",
       "    <tr>\n",
       "      <th>77188</th>\n",
       "      <td>United States</td>\n",
       "      <td>USA</td>\n",
       "      <td>Life expectancy at birth, total (years)</td>\n",
       "      <td>SP.DYN.LE00.IN</td>\n",
       "      <td>1962</td>\n",
       "      <td>70.119512</td>\n",
       "    </tr>\n",
       "    <tr>\n",
       "      <th>105806</th>\n",
       "      <td>United States</td>\n",
       "      <td>USA</td>\n",
       "      <td>Life expectancy at birth, total (years)</td>\n",
       "      <td>SP.DYN.LE00.IN</td>\n",
       "      <td>1963</td>\n",
       "      <td>69.917073</td>\n",
       "    </tr>\n",
       "    <tr>\n",
       "      <th>134844</th>\n",
       "      <td>United States</td>\n",
       "      <td>USA</td>\n",
       "      <td>Life expectancy at birth, total (years)</td>\n",
       "      <td>SP.DYN.LE00.IN</td>\n",
       "      <td>1964</td>\n",
       "      <td>70.165854</td>\n",
       "    </tr>\n",
       "  </tbody>\n",
       "</table>\n",
       "</div>"
      ],
      "text/plain": [
       "          CountryName CountryCode                            IndicatorName  \\\n",
       "22323   United States         USA  Life expectancy at birth, total (years)   \n",
       "48803   United States         USA  Life expectancy at birth, total (years)   \n",
       "77188   United States         USA  Life expectancy at birth, total (years)   \n",
       "105806  United States         USA  Life expectancy at birth, total (years)   \n",
       "134844  United States         USA  Life expectancy at birth, total (years)   \n",
       "\n",
       "         IndicatorCode  Year      Value  \n",
       "22323   SP.DYN.LE00.IN  1960  69.770732  \n",
       "48803   SP.DYN.LE00.IN  1961  70.270732  \n",
       "77188   SP.DYN.LE00.IN  1962  70.119512  \n",
       "105806  SP.DYN.LE00.IN  1963  69.917073  \n",
       "134844  SP.DYN.LE00.IN  1964  70.165854  "
      ]
     },
     "execution_count": 15,
     "metadata": {},
     "output_type": "execute_result"
    }
   ],
   "source": [
    "hist_indicator= \"Life expectancy at birth, total \\(ye\"\n",
    "hist_country= \"USA\"\n",
    "\n",
    "mask1= data['IndicatorName'].str.contains(hist_indicator)\n",
    "mask2= data['CountryCode'].str.contains(hist_country)\n",
    "\n",
    "lifeExpectancy= data[mask1 & mask2]\n",
    "lifeExpectancy.head()"
   ]
  },
  {
   "cell_type": "markdown",
   "metadata": {},
   "source": [
    "<br>\n",
    "### Let us plot the corresponding values"
   ]
  },
  {
   "cell_type": "code",
   "execution_count": 16,
   "metadata": {},
   "outputs": [
    {
     "data": {
      "image/png": "[encoded data removed]",
      "text/plain": [
       "<matplotlib.figure.Figure at 0x2a5985727b8>"
      ]
     },
     "metadata": {},
     "output_type": "display_data"
    }
   ],
   "source": [
    "years= lifeExpectancy['Year'].values\n",
    "age= lifeExpectancy['Value'].values\n",
    "\n",
    "plt.bar(years,age)\n",
    "plt.show()\n"
   ]
  },
  {
   "cell_type": "markdown",
   "metadata": {},
   "source": [
    "### Histogram of life expectancy by country in the year 2011"
   ]
  },
  {
   "cell_type": "code",
   "execution_count": 17,
   "metadata": {},
   "outputs": [
    {
     "data": {
      "text/html": [
       "<div>\n",
       "<style>\n",
       "    .dataframe thead tr:only-child th {\n",
       "        text-align: right;\n",
       "    }\n",
       "\n",
       "    .dataframe thead th {\n",
       "        text-align: left;\n",
       "    }\n",
       "\n",
       "    .dataframe tbody tr th {\n",
       "        vertical-align: top;\n",
       "    }\n",
       "</style>\n",
       "<table border=\"1\" class=\"dataframe\">\n",
       "  <thead>\n",
       "    <tr style=\"text-align: right;\">\n",
       "      <th></th>\n",
       "      <th>CountryName</th>\n",
       "      <th>CountryCode</th>\n",
       "      <th>IndicatorName</th>\n",
       "      <th>IndicatorCode</th>\n",
       "      <th>Year</th>\n",
       "      <th>Value</th>\n",
       "    </tr>\n",
       "  </thead>\n",
       "  <tbody>\n",
       "    <tr>\n",
       "      <th>5026499</th>\n",
       "      <td>Arab World</td>\n",
       "      <td>ARB</td>\n",
       "      <td>Life expectancy at birth, total (years)</td>\n",
       "      <td>SP.DYN.LE00.IN</td>\n",
       "      <td>2011</td>\n",
       "      <td>70.219347</td>\n",
       "    </tr>\n",
       "    <tr>\n",
       "      <th>5026997</th>\n",
       "      <td>Caribbean small states</td>\n",
       "      <td>CSS</td>\n",
       "      <td>Life expectancy at birth, total (years)</td>\n",
       "      <td>SP.DYN.LE00.IN</td>\n",
       "      <td>2011</td>\n",
       "      <td>71.572063</td>\n",
       "    </tr>\n",
       "    <tr>\n",
       "      <th>5027562</th>\n",
       "      <td>Central Europe and the Baltics</td>\n",
       "      <td>CEB</td>\n",
       "      <td>Life expectancy at birth, total (years)</td>\n",
       "      <td>SP.DYN.LE00.IN</td>\n",
       "      <td>2011</td>\n",
       "      <td>75.936907</td>\n",
       "    </tr>\n",
       "    <tr>\n",
       "      <th>5028130</th>\n",
       "      <td>East Asia &amp; Pacific (all income levels)</td>\n",
       "      <td>EAS</td>\n",
       "      <td>Life expectancy at birth, total (years)</td>\n",
       "      <td>SP.DYN.LE00.IN</td>\n",
       "      <td>2011</td>\n",
       "      <td>74.267169</td>\n",
       "    </tr>\n",
       "    <tr>\n",
       "      <th>5028773</th>\n",
       "      <td>East Asia &amp; Pacific (developing only)</td>\n",
       "      <td>EAP</td>\n",
       "      <td>Life expectancy at birth, total (years)</td>\n",
       "      <td>SP.DYN.LE00.IN</td>\n",
       "      <td>2011</td>\n",
       "      <td>73.346099</td>\n",
       "    </tr>\n",
       "  </tbody>\n",
       "</table>\n",
       "</div>"
      ],
      "text/plain": [
       "                                     CountryName CountryCode  \\\n",
       "5026499                               Arab World         ARB   \n",
       "5026997                   Caribbean small states         CSS   \n",
       "5027562           Central Europe and the Baltics         CEB   \n",
       "5028130  East Asia & Pacific (all income levels)         EAS   \n",
       "5028773    East Asia & Pacific (developing only)         EAP   \n",
       "\n",
       "                                   IndicatorName   IndicatorCode  Year  \\\n",
       "5026499  Life expectancy at birth, total (years)  SP.DYN.LE00.IN  2011   \n",
       "5026997  Life expectancy at birth, total (years)  SP.DYN.LE00.IN  2011   \n",
       "5027562  Life expectancy at birth, total (years)  SP.DYN.LE00.IN  2011   \n",
       "5028130  Life expectancy at birth, total (years)  SP.DYN.LE00.IN  2011   \n",
       "5028773  Life expectancy at birth, total (years)  SP.DYN.LE00.IN  2011   \n",
       "\n",
       "             Value  \n",
       "5026499  70.219347  \n",
       "5026997  71.572063  \n",
       "5027562  75.936907  \n",
       "5028130  74.267169  \n",
       "5028773  73.346099  "
      ]
     },
     "execution_count": 17,
     "metadata": {},
     "output_type": "execute_result"
    }
   ],
   "source": [
    "hist_indicator= \"Life expectancy at birth, total \\(ye\"\n",
    "hist_year= 2011\n",
    "mask1 = data['IndicatorName'].str.contains(hist_indicator)\n",
    "mask2= data['Year'].isin([hist_year])\n",
    "\n",
    "LE_2011= data[mask1 & mask2]\n",
    "LE_2011.head()\n"
   ]
  },
  {
   "cell_type": "markdown",
   "metadata": {},
   "source": [
    "For how many countries do we have life expectancy data in 2011?"
   ]
  },
  {
   "cell_type": "code",
   "execution_count": 18,
   "metadata": {},
   "outputs": [
    {
     "name": "stdout",
     "output_type": "stream",
     "text": [
      "234\n"
     ]
    }
   ],
   "source": [
    "print(len(LE_2011))"
   ]
  },
  {
   "cell_type": "code",
   "execution_count": 19,
   "metadata": {},
   "outputs": [
    {
     "data": {
      "image/png": "[encoded data removed]",
      "text/plain": [
       "<matplotlib.figure.Figure at 0x2a5848a7e48>"
      ]
     },
     "metadata": {},
     "output_type": "display_data"
    }
   ],
   "source": [
    "plt.hist(LE_2011['Value'], 10, normed=False, facecolor='green')\n",
    "\n",
    "plt.xlabel(lifeExpectancy['IndicatorName'].iloc[0])\n",
    "plt.ylabel('# of Countries')\n",
    "plt.title('Histogram of Life Expectancy at birth')\n",
    "\n",
    "plt.grid(True)\n",
    "\n",
    "plt.show()"
   ]
  },
  {
   "cell_type": "markdown",
   "metadata": {},
   "source": [
    "<br><p style=\"font-family: Arial; font-size:2.0em;color:blue; font-style:bold\">\n",
    "Relationship between Health Expenditure and Life Expectancy</p><br>"
   ]
  },
  {
   "cell_type": "markdown",
   "metadata": {},
   "source": [
    "### Relationship between Health Expenditure and Life Expectancy in USA "
   ]
  },
  {
   "cell_type": "markdown",
   "metadata": {},
   "source": [
    "#### ScatterPlot for comparing Health Expenditure and Life Expectancy\n",
    "First, we'll need to make sure we're looking at the same time frames"
   ]
  },
  {
   "cell_type": "code",
   "execution_count": 20,
   "metadata": {},
   "outputs": [
    {
     "name": "stdout",
     "output_type": "stream",
     "text": [
      "Life expectancy Min Year =     1960   max:  2013\n",
      "Health Expenditure Min Year =  1995   max:  2013\n"
     ]
    }
   ],
   "source": [
    "print(\"Life expectancy Min Year =    \", lifeExpectancy['Year'].min(), \"  max: \", lifeExpectancy['Year'].max())\n",
    "print(\"Health Expenditure Min Year = \", healthExp_USA['Year'].min(), \"  max: \", healthExp_USA['Year'].max())"
   ]
  },
  {
   "cell_type": "markdown",
   "metadata": {},
   "source": [
    "We have extra years of Health expenditure data, so let's trim those off so the scatterplot has equal length arrays to compare (this is actually required by scatterplot)"
   ]
  },
  {
   "cell_type": "code",
   "execution_count": 21,
   "metadata": {},
   "outputs": [
    {
     "name": "stdout",
     "output_type": "stream",
     "text": [
      "19\n",
      "19\n"
     ]
    }
   ],
   "source": [
    "LE_trunc = lifeExpectancy[lifeExpectancy['Year'] > 1994]\n",
    "print(len(LE_trunc))\n",
    "print(len(healthExp_USA))"
   ]
  },
  {
   "cell_type": "markdown",
   "metadata": {},
   "source": [
    "#### Scatterplot"
   ]
  },
  {
   "cell_type": "code",
   "execution_count": 22,
   "metadata": {},
   "outputs": [
    {
     "data": {
      "image/png": "[encoded data removed]",
      "text/plain": [
       "<matplotlib.figure.Figure at 0x2a58537e0b8>"
      ]
     },
     "metadata": {},
     "output_type": "display_data"
    }
   ],
   "source": [
    "%matplotlib inline\n",
    "import matplotlib.pyplot as plt\n",
    "\n",
    "fig, axis = plt.subplots()\n",
    "# Grid lines, Xticks, Xlabel, Ylabel\n",
    "\n",
    "axis.yaxis.grid(True)\n",
    "axis.set_title('Health expenditure (per capita) vs life expectancy in USA',fontsize=10)\n",
    "axis.set_xlabel(LE_trunc['IndicatorName'].iloc[0],fontsize=10)\n",
    "axis.set_ylabel(healthExp_USA['IndicatorName'].iloc[0],fontsize=10)\n",
    "\n",
    "X = LE_trunc['Value']\n",
    "Y = healthExp_USA['Value']\n",
    "\n",
    "axis.scatter(X, Y)\n",
    "plt.show()"
   ]
  },
  {
   "cell_type": "markdown",
   "metadata": {},
   "source": [
    "This nearly looks like a linear relationship.  We can test this by looking at correlation."
   ]
  },
  {
   "cell_type": "code",
   "execution_count": 23,
   "metadata": {},
   "outputs": [
    {
     "data": {
      "text/plain": [
       "array([[ 1.        ,  0.98152337],\n",
       "       [ 0.98152337,  1.        ]])"
      ]
     },
     "execution_count": 23,
     "metadata": {},
     "output_type": "execute_result"
    }
   ],
   "source": [
    "np.corrcoef(LE_trunc['Value'],healthExp_USA['Value'])"
   ]
  },
  {
   "cell_type": "markdown",
   "metadata": {},
   "source": [
    "A correlation value of 0.98 indicates a strong correlation."
   ]
  },
  {
   "cell_type": "markdown",
   "metadata": {},
   "source": [
    "### Let us look at graphs for some other countries besides USA to get a feel of the general trend"
   ]
  },
  {
   "cell_type": "markdown",
   "metadata": {},
   "source": [
    "#### INDIA"
   ]
  },
  {
   "cell_type": "code",
   "execution_count": null,
   "metadata": {
    "collapsed": true
   },
   "outputs": [],
   "source": [
    "hist_indicator= \"Health expenditure per capita \\(current\"\n",
    "hist_country= \"India\"\n",
    "mask1 = data['IndicatorName'].str.contains(hist_indicator) \n",
    "mask2 = data['CountryName'].str.contains(hist_country)\n",
    "\n",
    "healthExp_IND = data[mask1 & mask2]\n",
    "# number of rows of data\n",
    "len(healthExp_IND)\n",
    "\n",
    "hist_indicator2= \"Life expectancy at birth, total \\(ye\"\n",
    "mask3= data['IndicatorName'].str.contains(hist_indicator2)\n",
    "\n",
    "LE_IND= data[mask3 & mask2]\n",
    "\n",
    "print(\"Life expectancy Min Year =    \", LE_IND['Year'].min(), \"  max: \", LE_IND['Year'].max())\n",
    "print(\"Health Expenditure Min Year = \", healthExp_IND['Year'].min(), \"  max: \", healthExp_IND['Year'].max())\n",
    "\n",
    "LE_trunc_IND = LE_IND[LE_IND['Year'] > 1994]\n",
    "%matplotlib inline\n",
    "import matplotlib.pyplot as plt\n",
    "\n",
    "fig, axis = plt.subplots()\n",
    "# Grid lines, Xticks, Xlabel, Ylabel\n",
    "\n",
    "axis.yaxis.grid(True)\n",
    "axis.set_title('Health expenditure (per capita) vs life expectancy in India',fontsize=10)\n",
    "axis.set_xlabel(LE_trunc_IND['IndicatorName'].iloc[0],fontsize=10)\n",
    "axis.set_ylabel(healthExp_IND['IndicatorName'].iloc[0],fontsize=10)\n",
    "\n",
    "X = LE_trunc_IND['Value']\n",
    "Y = healthExp_IND['Value']\n",
    "\n",
    "axis.scatter(X, Y)\n",
    "plt.show()\n",
    "\n",
    "np.corrcoef(LE_trunc_IND['Value'],healthExp_IND['Value'])"
   ]
  },
  {
   "cell_type": "markdown",
   "metadata": {},
   "source": [
    "A value of 0.95 indicates a strong correlation."
   ]
  },
  {
   "cell_type": "markdown",
   "metadata": {},
   "source": [
    "#### Arab Countries"
   ]
  },
  {
   "cell_type": "code",
   "execution_count": null,
   "metadata": {
    "collapsed": true
   },
   "outputs": [],
   "source": [
    "hist_indicator= \"Health expenditure per capita \\(current\"\n",
    "hist_country= \"ARB\"\n",
    "mask1 = data['IndicatorName'].str.contains(hist_indicator) \n",
    "mask2 = data['CountryCode'].str.contains(hist_country)\n",
    "\n",
    "healthExp_ARB = data[mask1 & mask2]\n",
    "# number of rows of data\n",
    "len(healthExp_ARB)\n",
    "\n",
    "hist_indicator2= \"Life expectancy at birth, total \\(ye\"\n",
    "mask3= data['IndicatorName'].str.contains(hist_indicator2)\n",
    "\n",
    "LE_ARB= data[mask3 & mask2]\n",
    "\n",
    "print(\"Life expectancy Min Year =    \", LE_ARB['Year'].min(), \"  max: \", LE_ARB['Year'].max())\n",
    "print(\"Health Expenditure Min Year = \", healthExp_ARB['Year'].min(), \"  max: \", healthExp_ARB['Year'].max())\n",
    "\n",
    "LE_trunc_ARB = LE_ARB[LE_ARB['Year'] > 1994]\n",
    "%matplotlib inline\n",
    "import matplotlib.pyplot as plt\n",
    "\n",
    "fig, axis = plt.subplots()\n",
    "# Grid lines, Xticks, Xlabel, Ylabel\n",
    "\n",
    "axis.yaxis.grid(True)\n",
    "axis.set_title('Health expenditure (per capita) vs life expectancy in ARB',fontsize=10)\n",
    "axis.set_xlabel(LE_trunc_ARB['IndicatorName'].iloc[0],fontsize=10)\n",
    "axis.set_ylabel(healthExp_ARB['IndicatorName'].iloc[0],fontsize=10)\n",
    "\n",
    "X = LE_trunc_ARB['Value']\n",
    "Y = healthExp_ARB['Value']\n",
    "\n",
    "axis.scatter(X, Y)\n",
    "plt.show()\n",
    "\n",
    "y=np.corrcoef(LE_trunc_ARB['Value'],healthExp_ARB['Value'])\n",
    "y[0,1]"
   ]
  },
  {
   "cell_type": "markdown",
   "metadata": {},
   "source": [
    "A value of 0.95 indicates a strong correlation."
   ]
  },
  {
   "cell_type": "markdown",
   "metadata": {},
   "source": [
    "\n",
    "\n",
    "<br><p style=\"font-family: Arial; font-size:2.0em;color:blue; font-style:bold\">\n",
    "Conclusion</p>"
   ]
  },
  {
   "cell_type": "markdown",
   "metadata": {},
   "source": [
    "## The graphs and the high correlation values indicate that the more money is spent on health care per capita, the better is the life expectancy of an individual born in that country!"
   ]
  },
  {
   "cell_type": "markdown",
   "metadata": {},
   "source": [
    "<br>\n",
    "\n",
    "# *That's all folks!*"
   ]
  }
 ],
 "metadata": {
  "kernelspec": {
   "display_name": "Python 3",
   "language": "python",
   "name": "python3"
  },
  "language_info": {
   "codemirror_mode": {
    "name": "ipython",
    "version": 3
   },
   "file_extension": ".py",
   "mimetype": "text/x-python",
   "name": "python",
   "nbconvert_exporter": "python",
   "pygments_lexer": "ipython3",
   "version": "3.6.1"
  }
 },
 "nbformat": 4,
 "nbformat_minor": 2
}
